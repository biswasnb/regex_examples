{
 "cells": [
  {
   "cell_type": "markdown",
   "id": "715905e2",
   "metadata": {},
   "source": [
    "## REGEX EXAMPLES"
   ]
  },
  {
   "cell_type": "code",
   "execution_count": 1,
   "id": "2f370afb",
   "metadata": {},
   "outputs": [
    {
     "name": "stdout",
     "output_type": "stream",
     "text": [
      "Python:Exercises::PHP:exercises:\n"
     ]
    }
   ],
   "source": [
    "# regular exp : [ ,.]\n",
    "\n",
    "import re\n",
    "\n",
    "text = 'Python Exercises, PHP exercises.'\n",
    "\n",
    "pattern = r'[ ,.]'\n",
    "\n",
    "result = re.sub(pattern, ':', text)\n",
    "\n",
    "\n",
    "print(result)\n"
   ]
  },
  {
   "cell_type": "code",
   "execution_count": 8,
   "id": "c5891a03",
   "metadata": {},
   "outputs": [
    {
     "name": "stdout",
     "output_type": "stream",
     "text": [
      "Number of commas: 1\n",
      "Number of spaces: 3\n",
      "Number of dots: 1\n",
      "Total number of commas, spaces, and dots: 5\n",
      "Replaced text: Python:Exercises::PHP:exercises:\n"
     ]
    }
   ],
   "source": [
    "# regular exp : r'[,. ]'\n",
    "import re\n",
    "def count_and_replace(filename):\n",
    "    with open(filename, 'r') as file:\n",
    "        text = file.read()\n",
    "    \n",
    "    comma_count = len(re.findall(r',', text))\n",
    "    space_count = len(re.findall(r' ', text))\n",
    "    dot_count = len(re.findall(r'\\.', text))\n",
    "    \n",
    "    total_count = comma_count + space_count + dot_count\n",
    "\n",
    "    print(f\"Number of commas: {comma_count}\")\n",
    "    print(f\"Number of spaces: {space_count}\")\n",
    "    print(f\"Number of dots: {dot_count}\")\n",
    "    print(f\"Total number of commas, spaces, and dots: {total_count}\")\n",
    "    replaced_text = re.sub(r'[,. ]', ':', text)\n",
    "    print(\"Replaced text:\", replaced_text)\n",
    "filename = 'example.txt'  \n",
    "count_and_replace(filename)"
   ]
  },
  {
   "cell_type": "code",
   "execution_count": 9,
   "id": "cdd3bddd",
   "metadata": {},
   "outputs": [
    {
     "name": "stdout",
     "output_type": "stream",
     "text": [
      "Number of a's: 0\n",
      "Number of e's: 6\n",
      "Number of i's: 2\n",
      "Number of o's: 1\n",
      "Number of u's: 0\n"
     ]
    }
   ],
   "source": [
    "# regular exp : [AEIOUaeiou]\n",
    "\n",
    "import re\n",
    "def count_vowels(filename):\n",
    "    with open(filename, 'r') as file:\n",
    "        text = file.read().lower()\n",
    "    \n",
    "    pattern = r'[aeiou]'\n",
    "    vowels = re.findall(pattern, text)\n",
    "    counts = {vowel: vowels.count(vowel) for vowel in 'aeiou'}\n",
    "    \n",
    "    for vowel in 'aeiou':\n",
    "        print(f\"Number of {vowel}'s: {counts[vowel]}\")\n",
    "\n",
    "filename = 'example.txt'\n",
    "count_vowels(filename)"
   ]
  },
  {
   "cell_type": "code",
   "execution_count": 9,
   "id": "c593132b",
   "metadata": {},
   "outputs": [
    {
     "name": "stdout",
     "output_type": "stream",
     "text": [
      "Enter a string: hello world \n",
      "Words that are at least 4 characters long:\n",
      "['hello', 'world']\n"
     ]
    }
   ],
   "source": [
    "# regular exp : \\b\\w{4,}\\b\n",
    "import re\n",
    "\n",
    "def find_long_words(input_string):\n",
    "   \n",
    "    pattern = r'\\b\\w{4,}\\b'\n",
    "    \n",
    " \n",
    "    words = re.findall(pattern, input_string)\n",
    "    \n",
    "  \n",
    "    return words\n",
    "user_input = input(\"Enter a string: \")\n",
    "long_words = find_long_words(user_input)\n",
    "print(\"Words that are at least 4 characters long:\")\n",
    "print(long_words)"
   ]
  },
  {
   "cell_type": "code",
   "execution_count": 10,
   "id": "e4ca6f2d",
   "metadata": {},
   "outputs": [
    {
     "name": "stdout",
     "output_type": "stream",
     "text": [
      "Enter a string: hello hello world world\n",
      "Text after removing continuous duplicates:\n",
      "hello world\n"
     ]
    }
   ],
   "source": [
    "#  regular exp : \\b(\\w+)( \\1)+\\b\n",
    "import re\n",
    "def remove_continuous_duplicates(text):\n",
    "    pattern = r'\\b(\\w+)( \\1)+\\b'\n",
    "    result = re.sub(pattern, r'\\1', text)\n",
    "    return result\n",
    "\n",
    "user_input = input(\"Enter a string: \")\n",
    "cleaned_text = remove_continuous_duplicates(user_input)\n",
    "print(\"Text after removing continuous duplicates:\")\n",
    "print(cleaned_text)"
   ]
  },
  {
   "cell_type": "code",
   "execution_count": 2,
   "id": "da2fae65",
   "metadata": {},
   "outputs": [
    {
     "name": "stdout",
     "output_type": "stream",
     "text": [
      "alice123@gmail.com\n",
      "bob456@outlook.com\n"
     ]
    }
   ],
   "source": [
    "# regular exp : \\b[a-z0-9]{1,10}@[a-z]+\\.[a-z]{2,}\\b\n",
    "import re\n",
    "pattern = r'\\b[a-z0-9]{1,10}@[a-z]+\\.[a-z]{2,}\\b'\n",
    "with open('emails.txt', 'r') as file:\n",
    "    content = file.read()\n",
    "valid_emails = re.findall(pattern, content)\n",
    "\n",
    "for email in valid_emails:\n",
    "    print(email)\n"
   ]
  },
  {
   "cell_type": "code",
   "execution_count": 10,
   "id": "6fcea5ad",
   "metadata": {},
   "outputs": [
    {
     "name": "stdout",
     "output_type": "stream",
     "text": [
      "valid:\n",
      "1A2B3cD4eF5gH6iJ7kL8mN9o\n",
      "Xyz123ABCdef456GHIjk789\n"
     ]
    }
   ],
   "source": [
    "# regular exp : ^(?=(?:.*[A-Z]){2})(?=(?:.*[a-z]){2})(?=(?:.*\\d){2})[A-Za-z\\d]{15,}$\n",
    "import re\n",
    "pattern = re.compile(r'^(?=(?:.*[A-Z]){2})(?=(?:.*[a-z]){2})(?=(?:.*\\d){2})[A-Za-z\\d]{15,}$')\n",
    "def validate_passwords(filename):\n",
    "    with open(filename, 'r') as file:\n",
    "        print('valid:')\n",
    "        for line in file:\n",
    "            password = line.strip()\n",
    "            if pattern.match(password):\n",
    "                print(password)\n",
    "filename = 'passwords.txt'\n",
    "validate_passwords(filename)"
   ]
  },
  {
   "cell_type": "code",
   "execution_count": 4,
   "id": "1d1c11f8",
   "metadata": {},
   "outputs": [
    {
     "name": "stdout",
     "output_type": "stream",
     "text": [
      "May 15, 2020\n",
      "June 5, 2019\n",
      "July 4, 2018\n"
     ]
    }
   ],
   "source": [
    "# regular exp : ^(January|February|March|April|May|June|July|August|September|October|November|December) \\d{1,2}, \\d{4}$\n",
    "import re\n",
    "pattern = re.compile(r'^(January|February|March|April|May|June|July|August|September|October|November|December) \\d{1,2}, \\d{4}$')\n",
    "def validate_dates(filename):\n",
    "    with open(filename, 'r') as file:\n",
    "        for line in file:\n",
    "            date = line.strip()\n",
    "            if pattern.match(date):\n",
    "                print(date)\n",
    "filename = 'dates.txt'\n",
    "validate_dates(filename)"
   ]
  },
  {
   "cell_type": "code",
   "execution_count": null,
   "id": "6dcb7018",
   "metadata": {},
   "outputs": [],
   "source": []
  }
 ],
 "metadata": {
  "kernelspec": {
   "display_name": "Python 3 (ipykernel)",
   "language": "python",
   "name": "python3"
  },
  "language_info": {
   "codemirror_mode": {
    "name": "ipython",
    "version": 3
   },
   "file_extension": ".py",
   "mimetype": "text/x-python",
   "name": "python",
   "nbconvert_exporter": "python",
   "pygments_lexer": "ipython3",
   "version": "3.9.7"
  }
 },
 "nbformat": 4,
 "nbformat_minor": 5
}
